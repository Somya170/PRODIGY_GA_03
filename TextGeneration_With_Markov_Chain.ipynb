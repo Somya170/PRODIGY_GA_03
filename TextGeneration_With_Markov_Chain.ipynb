{
  "nbformat": 4,
  "nbformat_minor": 0,
  "metadata": {
    "colab": {
      "provenance": []
    },
    "kernelspec": {
      "name": "python3",
      "display_name": "Python 3"
    },
    "language_info": {
      "name": "python"
    }
  },
  "cells": [
    {
      "cell_type": "code",
      "execution_count": 1,
      "metadata": {
        "colab": {
          "base_uri": "https://localhost:8080/"
        },
        "id": "2xgQfxQRsMIY",
        "outputId": "a0808812-ca65-4b7b-8929-f82fc026f4f0"
      },
      "outputs": [
        {
          "output_type": "stream",
          "name": "stdout",
          "text": [
            "Requirement already satisfied: numpy in /usr/local/lib/python3.10/dist-packages (1.26.4)\n",
            "Requirement already satisfied: matplotlib in /usr/local/lib/python3.10/dist-packages (3.7.1)\n",
            "Requirement already satisfied: contourpy>=1.0.1 in /usr/local/lib/python3.10/dist-packages (from matplotlib) (1.2.1)\n",
            "Requirement already satisfied: cycler>=0.10 in /usr/local/lib/python3.10/dist-packages (from matplotlib) (0.12.1)\n",
            "Requirement already satisfied: fonttools>=4.22.0 in /usr/local/lib/python3.10/dist-packages (from matplotlib) (4.53.1)\n",
            "Requirement already satisfied: kiwisolver>=1.0.1 in /usr/local/lib/python3.10/dist-packages (from matplotlib) (1.4.5)\n",
            "Requirement already satisfied: packaging>=20.0 in /usr/local/lib/python3.10/dist-packages (from matplotlib) (24.1)\n",
            "Requirement already satisfied: pillow>=6.2.0 in /usr/local/lib/python3.10/dist-packages (from matplotlib) (9.4.0)\n",
            "Requirement already satisfied: pyparsing>=2.3.1 in /usr/local/lib/python3.10/dist-packages (from matplotlib) (3.1.4)\n",
            "Requirement already satisfied: python-dateutil>=2.7 in /usr/local/lib/python3.10/dist-packages (from matplotlib) (2.8.2)\n",
            "Requirement already satisfied: six>=1.5 in /usr/local/lib/python3.10/dist-packages (from python-dateutil>=2.7->matplotlib) (1.16.0)\n"
          ]
        }
      ],
      "source": [
        "!pip install numpy matplotlib\n"
      ]
    },
    {
      "cell_type": "code",
      "source": [
        "import numpy as np\n",
        "import re\n",
        "from collections import defaultdict, Counter\n"
      ],
      "metadata": {
        "id": "5ZNlNUkXtE7-"
      },
      "execution_count": 2,
      "outputs": []
    },
    {
      "cell_type": "code",
      "source": [
        "text = \"\"\"\n",
        "Alice was beginning to get very tired of sitting by her sister on the bank, and of having nothing to do:\n",
        "once or twice she had peeped into the book her sister was reading, but it had no pictures or conversations in it,\n",
        "'and what is the use of a book,' thought Alice, 'without pictures or conversation?'\n",
        "So she was considering in her own mind (as well as she could, for the hot day made her feel very sleepy),\n",
        "whether the pleasure of making a daisy chain would be worth the trouble of getting up and picking the daisies,\n",
        "when suddenly a White Rabbit with pink eyes ran close by her.\n",
        "There was nothing so very remarkable in that, nor did Alice think it so very much out of the way to hear the Rabbit say to itself,\n",
        "'Oh dear! Oh dear! I shall be too late!' (when she thought it over afterwards, it occurred to her that she ought to have wondered at this,\n",
        "but at the time it all seemed quite natural); but when the Rabbit actually took a watch out of its waistcoat-pocket,\n",
        "and looked at it, and then hurried on, Alice started to her feet, for it flashed across her mind that she had never before seen a rabbit\n",
        "with either a waistcoat-pocket, or a watch to take out of it. And burning with curiosity, she ran across the field after it,\n",
        "and fortunately was just in time to see it pop down a large large rabbit hole under the hedge.\n",
        "In another moment down went Alice after it, not considering how in the world she was to get out again.\n",
        "The rabbit hole went straight on like a tunnel for some way, and then dipped down, so suddenly, so that Alice had not a moment to think about stopping herself,\n",
        "before she found herself falling down what seemed to be a very deep well.\n",
        "Either the well was deep, or she fell very slowly, for she had plenty of time as she went down to look about her and wonder what was going to happen next.\n",
        "First, she tried to look down and make out what she was coming to, but it was too dark to see anything.\n",
        "Then she looked at the sides of the well, and noticed that they were filled with cupboards and bookshelves,\n",
        "with maps and pictures hung on pegs, and she tried to look at them all, but the more she looked, the less she could see.\n",
        "At last, as she was falling, she saw a beautiful little door, with a tiny golden key in the lock, and a tiny golden keyhole, which she tried to open with her little hand,\n",
        "but it was no use, for she could not reach it. So she tried to think of something else, but it was too hard, and she was too tired.\n",
        "Then she woke up, and found herself in her own room, and the book with no pictures had gone away, and her sister was reading a book with pictures,\n",
        "and she was glad to see that she was still at home.\n",
        "\"\"\"\n"
      ],
      "metadata": {
        "id": "p2nvLj50tI6N"
      },
      "execution_count": 3,
      "outputs": []
    },
    {
      "cell_type": "code",
      "source": [
        "def tokenize(text):\n",
        "    return re.findall(r'\\b\\w+\\b', text.lower())\n",
        "\n",
        "tokens = tokenize(text)\n"
      ],
      "metadata": {
        "id": "PUkEa3iwtJpH"
      },
      "execution_count": 4,
      "outputs": []
    },
    {
      "cell_type": "code",
      "source": [
        "def build_markov_chain(tokens, n=1):\n",
        "    model = defaultdict(Counter)\n",
        "    for i in range(len(tokens) - n):\n",
        "        current_state = tuple(tokens[i:i + n])\n",
        "        next_state = tokens[i + n]\n",
        "        model[current_state][next_state] += 1\n",
        "    return model\n",
        "\n",
        "markov_chain = build_markov_chain(tokens, n=1)\n"
      ],
      "metadata": {
        "id": "XSZsKQgttLlk"
      },
      "execution_count": 5,
      "outputs": []
    },
    {
      "cell_type": "code",
      "source": [
        "import numpy as np\n",
        "\n",
        "def generate_text(markov_chain, start_state, length=50):\n",
        "    current_state = tuple(start_state[:1])  # Use only the first word of the start_state\n",
        "    output = list(current_state)\n",
        "\n",
        "    for _ in range(length):\n",
        "        if current_state in markov_chain:  # Check if the state exists in the chain\n",
        "            next_word_probs = markov_chain[current_state]\n",
        "            next_word = np.random.choice(\n",
        "                list(next_word_probs.keys()),\n",
        "                p=np.array(list(next_word_probs.values())) / sum(next_word_probs.values())\n",
        "            )\n",
        "            output.append(next_word)\n",
        "            current_state = tuple([next_word])  # Update the state based on the generated word\n",
        "        else:\n",
        "            break  # Stop if the state is not found\n",
        "\n",
        "    return ' '.join(output)\n",
        "\n",
        "# Define a starting state with a single word\n",
        "start_state = ['alice']\n",
        "generated_text = generate_text(markov_chain, start_state, length=50)\n",
        "print(generated_text)\n"
      ],
      "metadata": {
        "colab": {
          "base_uri": "https://localhost:8080/"
        },
        "id": "Gb_KSO7CtN7H",
        "outputId": "6388bc8b-267d-4931-d445-da1a17a0a272"
      },
      "execution_count": 6,
      "outputs": [
        {
          "output_type": "stream",
          "name": "stdout",
          "text": [
            "alice think about her feet for she had no pictures had plenty of its waistcoat pocket and found herself before she went alice started to her own mind that alice was beginning to look about stopping herself in it was too dark to see that she was coming to look down\n"
          ]
        }
      ]
    }
  ]
}